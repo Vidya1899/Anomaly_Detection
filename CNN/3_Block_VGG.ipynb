{
  "nbformat": 4,
  "nbformat_minor": 0,
  "metadata": {
    "colab": {
      "name": "vgg3.ipynb",
      "provenance": [],
      "collapsed_sections": []
    },
    "kernelspec": {
      "name": "python3",
      "display_name": "Python 3"
    }
  },
  "cells": [
    {
      "cell_type": "code",
      "metadata": {
        "id": "Mp8PQ1TAvvZZ",
        "outputId": "18224eff-3e9a-4533-e55d-b01b2c84aaa6",
        "colab": {
          "base_uri": "https://localhost:8080/",
          "height": 34
        }
      },
      "source": [
        "from google.colab import drive\n",
        "drive.mount('/gdrive')"
      ],
      "execution_count": null,
      "outputs": [
        {
          "output_type": "stream",
          "text": [
            "Mounted at /gdrive\n"
          ],
          "name": "stdout"
        }
      ]
    },
    {
      "cell_type": "code",
      "metadata": {
        "id": "V5NrcLVKv-5S",
        "outputId": "2572e885-5e50-42c4-973d-a332eaa3ad6c",
        "colab": {
          "base_uri": "https://localhost:8080/",
          "height": 34
        }
      },
      "source": [
        "%cd /content/drive/My Drive/SPCUP/"
      ],
      "execution_count": null,
      "outputs": [
        {
          "output_type": "stream",
          "text": [
            "/content/drive/My Drive/SPCUP\n"
          ],
          "name": "stdout"
        }
      ]
    },
    {
      "cell_type": "code",
      "metadata": {
        "id": "XJ-jiGS8wQOs",
        "outputId": "4c4ac915-3668-445b-dd93-879c51a254db",
        "colab": {
          "base_uri": "https://localhost:8080/",
          "height": 925
        }
      },
      "source": [
        "# baseline 2 block CNN\n",
        "import sys\n",
        "from matplotlib import pyplot\n",
        "from keras.utils import to_categorical\n",
        "from keras.models import Sequential\n",
        "from keras.layers import Conv2D\n",
        "from keras.layers import MaxPooling2D\n",
        "from keras.layers import Dense\n",
        "from keras.layers import Flatten\n",
        "from keras.optimizers import SGD\n",
        "from keras.preprocessing.image import ImageDataGenerator\n",
        "\n",
        "# define cnn model\n",
        "# define cnn model\n",
        "# define cnn model\n",
        "def define_model():\n",
        "\tmodel = Sequential()\n",
        "\tmodel.add(Conv2D(32, (3, 3), activation='relu', kernel_initializer='he_uniform', padding='same', input_shape=(200, 200, 3)))\n",
        "\tmodel.add(MaxPooling2D((2, 2)))\n",
        "\tmodel.add(Conv2D(64, (3, 3), activation='relu', kernel_initializer='he_uniform', padding='same'))\n",
        "\tmodel.add(MaxPooling2D((2, 2)))\n",
        "\tmodel.add(Conv2D(128, (3, 3), activation='relu', kernel_initializer='he_uniform', padding='same'))\n",
        "\tmodel.add(MaxPooling2D((2, 2)))\n",
        "\tmodel.add(Flatten())\n",
        "\tmodel.add(Dense(128, activation='relu', kernel_initializer='he_uniform'))\n",
        "\tmodel.add(Dense(1, activation='sigmoid'))\n",
        "\t# compile model\n",
        "\topt = SGD(lr=0.001, momentum=0.9)\n",
        "\tmodel.compile(optimizer=opt, loss='binary_crossentropy', metrics=['accuracy'])\n",
        "\treturn model\n",
        "\n",
        "# plot diagnostic learning curves\n",
        "def summarize_diagnostics(history):\n",
        "\t# plot loss\n",
        "\tpyplot.subplot(211)\n",
        "\tpyplot.title('Cross Entropy Loss')\n",
        "\tpyplot.plot(history.history['loss'], color='blue', label='train')\n",
        "\tpyplot.plot(history.history['val_loss'], color='orange', label='test')\n",
        "\t# plot accuracy\n",
        "\tpyplot.subplot(212)\n",
        "\tpyplot.title('Classification Accuracy')\n",
        "\tpyplot.plot(history.history['accuracy'], color='blue', label='train')\n",
        "\tpyplot.plot(history.history['val_accuracy'], color='orange', label='test')\n",
        "\t# save plot to file\n",
        "\tpyplot.subplots_adjust(hspace=0.5)\n",
        "\tpyplot.savefig('3blok'+ '_plot2.png')\n",
        "\tpyplot.close()\n",
        "\n",
        "# run the test harness for evaluating a model\n",
        "def run_test_harness():\n",
        "\t# define model\n",
        "\tmodel = define_model()\n",
        "\t# create data generator\n",
        "\tdatagen = ImageDataGenerator(rescale=1.0/255.0)\n",
        "\t# prepare iterators\n",
        "\ttrain_it = datagen.flow_from_directory('train/',\n",
        "\t\tclass_mode='binary', batch_size=64, target_size=(200, 200))\n",
        "\ttest_it = datagen.flow_from_directory('test/',\n",
        "\t\tclass_mode='binary', batch_size=64, target_size=(200, 200))\n",
        "\t# fit model\n",
        "\thistory = model.fit_generator(train_it, steps_per_epoch=len(train_it),\n",
        "\t\tvalidation_data=test_it, validation_steps=len(test_it), epochs=20, verbose=1)\n",
        "\t# evaluate model\n",
        "\t_, acc = model.evaluate_generator(test_it, steps=len(test_it), verbose=1)\n",
        "\tprint('> %.3f' % (acc * 100.0))\n",
        "\t# learning curves\n",
        "\tsummarize_diagnostics(history)\n",
        "\n",
        "# entry point, run the test harness\n",
        "run_test_harness()"
      ],
      "execution_count": null,
      "outputs": [
        {
          "output_type": "stream",
          "text": [
            "Found 468 images belonging to 2 classes.\n",
            "Found 115 images belonging to 2 classes.\n",
            "WARNING:tensorflow:From <ipython-input-2-5f38b91e0a47>:62: Model.fit_generator (from tensorflow.python.keras.engine.training) is deprecated and will be removed in a future version.\n",
            "Instructions for updating:\n",
            "Please use Model.fit, which supports generators.\n",
            "Epoch 1/20\n",
            "8/8 [==============================] - 65s 8s/step - loss: 1.0276 - accuracy: 0.5641 - val_loss: 0.7682 - val_accuracy: 0.6087\n",
            "Epoch 2/20\n",
            "8/8 [==============================] - 62s 8s/step - loss: 0.6581 - accuracy: 0.6026 - val_loss: 0.6464 - val_accuracy: 0.6087\n",
            "Epoch 3/20\n",
            "8/8 [==============================] - 61s 8s/step - loss: 0.6224 - accuracy: 0.6026 - val_loss: 0.6268 - val_accuracy: 0.6087\n",
            "Epoch 4/20\n",
            "8/8 [==============================] - 69s 9s/step - loss: 0.5826 - accuracy: 0.6047 - val_loss: 0.5987 - val_accuracy: 0.6261\n",
            "Epoch 5/20\n",
            "8/8 [==============================] - 62s 8s/step - loss: 0.5260 - accuracy: 0.8269 - val_loss: 0.5541 - val_accuracy: 0.8435\n",
            "Epoch 6/20\n",
            "8/8 [==============================] - 61s 8s/step - loss: 0.4529 - accuracy: 0.8889 - val_loss: 0.5116 - val_accuracy: 0.8261\n",
            "Epoch 7/20\n",
            "8/8 [==============================] - 61s 8s/step - loss: 0.3613 - accuracy: 0.9188 - val_loss: 0.4565 - val_accuracy: 0.8696\n",
            "Epoch 8/20\n",
            "8/8 [==============================] - 68s 8s/step - loss: 0.2905 - accuracy: 0.9274 - val_loss: 0.4788 - val_accuracy: 0.7913\n",
            "Epoch 9/20\n",
            "8/8 [==============================] - 63s 8s/step - loss: 0.2768 - accuracy: 0.9060 - val_loss: 0.4801 - val_accuracy: 0.8522\n",
            "Epoch 10/20\n",
            "8/8 [==============================] - 61s 8s/step - loss: 0.2662 - accuracy: 0.8953 - val_loss: 0.4113 - val_accuracy: 0.8870\n",
            "Epoch 11/20\n",
            "8/8 [==============================] - 62s 8s/step - loss: 0.1805 - accuracy: 0.9594 - val_loss: 0.4169 - val_accuracy: 0.8348\n",
            "Epoch 12/20\n",
            "8/8 [==============================] - 63s 8s/step - loss: 0.1552 - accuracy: 0.9551 - val_loss: 0.4133 - val_accuracy: 0.8435\n",
            "Epoch 13/20\n",
            "8/8 [==============================] - 61s 8s/step - loss: 0.1388 - accuracy: 0.9530 - val_loss: 0.3935 - val_accuracy: 0.8783\n",
            "Epoch 14/20\n",
            "8/8 [==============================] - 61s 8s/step - loss: 0.1195 - accuracy: 0.9573 - val_loss: 0.3964 - val_accuracy: 0.8696\n",
            "Epoch 15/20\n",
            "8/8 [==============================] - 69s 9s/step - loss: 0.1213 - accuracy: 0.9637 - val_loss: 0.4443 - val_accuracy: 0.8870\n",
            "Epoch 16/20\n",
            "8/8 [==============================] - 63s 8s/step - loss: 0.1187 - accuracy: 0.9594 - val_loss: 0.4259 - val_accuracy: 0.8435\n",
            "Epoch 17/20\n",
            "8/8 [==============================] - 62s 8s/step - loss: 0.1359 - accuracy: 0.9530 - val_loss: 0.4634 - val_accuracy: 0.8087\n",
            "Epoch 18/20\n",
            "8/8 [==============================] - 61s 8s/step - loss: 0.1514 - accuracy: 0.9423 - val_loss: 0.5201 - val_accuracy: 0.8870\n",
            "Epoch 19/20\n",
            "8/8 [==============================] - 63s 8s/step - loss: 0.1195 - accuracy: 0.9551 - val_loss: 0.4393 - val_accuracy: 0.8435\n",
            "Epoch 20/20\n",
            "8/8 [==============================] - 63s 8s/step - loss: 0.0858 - accuracy: 0.9701 - val_loss: 0.4645 - val_accuracy: 0.8435\n",
            "WARNING:tensorflow:From <ipython-input-2-5f38b91e0a47>:64: Model.evaluate_generator (from tensorflow.python.keras.engine.training) is deprecated and will be removed in a future version.\n",
            "Instructions for updating:\n",
            "Please use Model.evaluate, which supports generators.\n",
            "2/2 [==============================] - 4s 2s/step - loss: 0.4645 - accuracy: 0.8435\n",
            "> 84.348\n"
          ],
          "name": "stdout"
        }
      ]
    },
    {
      "cell_type": "code",
      "metadata": {
        "id": "bIjfsmVmw7e1"
      },
      "source": [
        ""
      ],
      "execution_count": null,
      "outputs": []
    }
  ]
}