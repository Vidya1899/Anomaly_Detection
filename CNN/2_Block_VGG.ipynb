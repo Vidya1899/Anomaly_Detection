{
  "nbformat": 4,
  "nbformat_minor": 0,
  "metadata": {
    "colab": {
      "name": "2blockvgg.ipynb",
      "provenance": []
    },
    "kernelspec": {
      "name": "python3",
      "display_name": "Python 3"
    }
  },
  "cells": [
    {
      "cell_type": "code",
      "metadata": {
        "id": "yoWoyinX0t7a",
        "outputId": "6a829598-d12e-4c21-baa3-72f8ebb6badc",
        "colab": {
          "base_uri": "https://localhost:8080/",
          "height": 34
        }
      },
      "source": [
        "from google.colab import drive\n",
        "drive.mount('/gdrive')"
      ],
      "execution_count": null,
      "outputs": [
        {
          "output_type": "stream",
          "text": [
            "Mounted at /gdrive\n"
          ],
          "name": "stdout"
        }
      ]
    },
    {
      "cell_type": "code",
      "metadata": {
        "id": "RC3COeJE0x5-",
        "outputId": "88c10add-5bd9-49bb-f74f-61f5a2161aec",
        "colab": {
          "base_uri": "https://localhost:8080/",
          "height": 34
        }
      },
      "source": [
        "%cd /content/drive/My Drive/SPCUP/"
      ],
      "execution_count": null,
      "outputs": [
        {
          "output_type": "stream",
          "text": [
            "/content/drive/My Drive/SPCUP\n"
          ],
          "name": "stdout"
        }
      ]
    },
    {
      "cell_type": "code",
      "metadata": {
        "id": "ReLHWbZF00NK",
        "outputId": "289b2edd-d424-4b3f-e1e2-c3892c504593",
        "colab": {
          "base_uri": "https://localhost:8080/",
          "height": 925
        }
      },
      "source": [
        "# baseline 2 block CNN\n",
        "import sys\n",
        "from matplotlib import pyplot\n",
        "from keras.utils import to_categorical\n",
        "from keras.models import Sequential\n",
        "from keras.layers import Conv2D\n",
        "from keras.layers import MaxPooling2D\n",
        "from keras.layers import Dense\n",
        "from keras.layers import Flatten\n",
        "from keras.optimizers import SGD\n",
        "from keras.preprocessing.image import ImageDataGenerator\n",
        "\n",
        "# define cnn model\n",
        "# define cnn model\n",
        "# define cnn model\n",
        "# define cnn model\n",
        "def define_model():\n",
        "\tmodel = Sequential()\n",
        "\tmodel.add(Conv2D(32, (3, 3), activation='relu', kernel_initializer='he_uniform', padding='same', input_shape=(200, 200, 3)))\n",
        "\tmodel.add(MaxPooling2D((2, 2)))\n",
        "\tmodel.add(Conv2D(64, (3, 3), activation='relu', kernel_initializer='he_uniform', padding='same'))\n",
        "\tmodel.add(MaxPooling2D((2, 2)))\n",
        "\tmodel.add(Flatten())\n",
        "\tmodel.add(Dense(128, activation='relu', kernel_initializer='he_uniform'))\n",
        "\tmodel.add(Dense(1, activation='sigmoid'))\n",
        "\t# compile model\n",
        "\topt = SGD(lr=0.001, momentum=0.9)\n",
        "\tmodel.compile(optimizer=opt, loss='binary_crossentropy', metrics=['accuracy'])\n",
        "\treturn model\n",
        "\n",
        "# plot diagnostic learning curves\n",
        "def summarize_diagnostics(history):\n",
        "\t# plot loss\n",
        "\tpyplot.subplot(211)\n",
        "\tpyplot.title('Cross Entropy Loss')\n",
        "\tpyplot.plot(history.history['loss'], color='blue', label='train')\n",
        "\tpyplot.plot(history.history['val_loss'], color='orange', label='test')\n",
        "\t# plot accuracy\n",
        "\tpyplot.subplot(212)\n",
        "\tpyplot.title('Classification Accuracy')\n",
        "\tpyplot.plot(history.history['accuracy'], color='blue', label='train')\n",
        "\tpyplot.plot(history.history['val_accuracy'], color='orange', label='test')\n",
        "\t# save plot to file\n",
        "\tpyplot.subplots_adjust(hspace=0.5)\n",
        "\tpyplot.savefig('2blok'+ '_plot2.png')\n",
        "\tpyplot.close()\n",
        "\n",
        "# run the test harness for evaluating a model\n",
        "def run_test_harness():\n",
        "\t# define model\n",
        "\tmodel = define_model()\n",
        "\t# create data generator\n",
        "\tdatagen = ImageDataGenerator(rescale=1.0/255.0)\n",
        "\t# prepare iterators\n",
        "\ttrain_it = datagen.flow_from_directory('train/',\n",
        "\t\tclass_mode='binary', batch_size=64, target_size=(200, 200))\n",
        "\ttest_it = datagen.flow_from_directory('test/',\n",
        "\t\tclass_mode='binary', batch_size=64, target_size=(200, 200))\n",
        "\t# fit model\n",
        "\thistory = model.fit_generator(train_it, steps_per_epoch=len(train_it),\n",
        "\t\tvalidation_data=test_it, validation_steps=len(test_it), epochs=20, verbose=1)\n",
        "\t# evaluate model\n",
        "\t_, acc = model.evaluate_generator(test_it, steps=len(test_it), verbose=1)\n",
        "\tprint('> %.3f' % (acc * 100.0))\n",
        "\t# learning curves\n",
        "\tsummarize_diagnostics(history)\n",
        "\n",
        "# entry point, run the test harness\n",
        "run_test_harness()"
      ],
      "execution_count": null,
      "outputs": [
        {
          "output_type": "stream",
          "text": [
            "Found 468 images belonging to 2 classes.\n",
            "Found 115 images belonging to 2 classes.\n",
            "WARNING:tensorflow:From <ipython-input-2-b7157e3018ae>:61: Model.fit_generator (from tensorflow.python.keras.engine.training) is deprecated and will be removed in a future version.\n",
            "Instructions for updating:\n",
            "Please use Model.fit, which supports generators.\n",
            "Epoch 1/20\n",
            "8/8 [==============================] - 491s 61s/step - loss: 1.3568 - accuracy: 0.5192 - val_loss: 0.6757 - val_accuracy: 0.6087\n",
            "Epoch 2/20\n",
            "8/8 [==============================] - 49s 6s/step - loss: 0.6583 - accuracy: 0.6026 - val_loss: 0.6532 - val_accuracy: 0.6087\n",
            "Epoch 3/20\n",
            "8/8 [==============================] - 49s 6s/step - loss: 0.6342 - accuracy: 0.6987 - val_loss: 0.6361 - val_accuracy: 0.6087\n",
            "Epoch 4/20\n",
            "8/8 [==============================] - 48s 6s/step - loss: 0.6148 - accuracy: 0.6667 - val_loss: 0.6159 - val_accuracy: 0.8522\n",
            "Epoch 5/20\n",
            "8/8 [==============================] - 49s 6s/step - loss: 0.5774 - accuracy: 0.7051 - val_loss: 0.5939 - val_accuracy: 0.7478\n",
            "Epoch 6/20\n",
            "8/8 [==============================] - 49s 6s/step - loss: 0.4937 - accuracy: 0.8034 - val_loss: 0.5310 - val_accuracy: 0.8174\n",
            "Epoch 7/20\n",
            "8/8 [==============================] - 51s 6s/step - loss: 0.4320 - accuracy: 0.8868 - val_loss: 0.4843 - val_accuracy: 0.8783\n",
            "Epoch 8/20\n",
            "8/8 [==============================] - 49s 6s/step - loss: 0.3499 - accuracy: 0.8974 - val_loss: 0.4599 - val_accuracy: 0.8174\n",
            "Epoch 9/20\n",
            "8/8 [==============================] - 49s 6s/step - loss: 0.3030 - accuracy: 0.9017 - val_loss: 0.4760 - val_accuracy: 0.8348\n",
            "Epoch 10/20\n",
            "8/8 [==============================] - 49s 6s/step - loss: 0.2678 - accuracy: 0.9038 - val_loss: 0.4087 - val_accuracy: 0.8348\n",
            "Epoch 11/20\n",
            "8/8 [==============================] - 49s 6s/step - loss: 0.2793 - accuracy: 0.8739 - val_loss: 0.4351 - val_accuracy: 0.8609\n",
            "Epoch 12/20\n",
            "8/8 [==============================] - 49s 6s/step - loss: 0.1654 - accuracy: 0.9444 - val_loss: 0.3806 - val_accuracy: 0.8957\n",
            "Epoch 13/20\n",
            "8/8 [==============================] - 49s 6s/step - loss: 0.1495 - accuracy: 0.9487 - val_loss: 0.3639 - val_accuracy: 0.9130\n",
            "Epoch 14/20\n",
            "8/8 [==============================] - 49s 6s/step - loss: 0.1259 - accuracy: 0.9573 - val_loss: 0.3972 - val_accuracy: 0.8957\n",
            "Epoch 15/20\n",
            "8/8 [==============================] - 54s 7s/step - loss: 0.1666 - accuracy: 0.9444 - val_loss: 0.6496 - val_accuracy: 0.5913\n",
            "Epoch 16/20\n",
            "8/8 [==============================] - 54s 7s/step - loss: 0.1949 - accuracy: 0.9274 - val_loss: 0.4094 - val_accuracy: 0.8957\n",
            "Epoch 17/20\n",
            "8/8 [==============================] - 49s 6s/step - loss: 0.1222 - accuracy: 0.9615 - val_loss: 0.3438 - val_accuracy: 0.9130\n",
            "Epoch 18/20\n",
            "8/8 [==============================] - 57s 7s/step - loss: 0.1164 - accuracy: 0.9615 - val_loss: 0.5551 - val_accuracy: 0.6522\n",
            "Epoch 19/20\n",
            "8/8 [==============================] - 49s 6s/step - loss: 0.1175 - accuracy: 0.9637 - val_loss: 0.4343 - val_accuracy: 0.8000\n",
            "Epoch 20/20\n",
            "8/8 [==============================] - 49s 6s/step - loss: 0.1028 - accuracy: 0.9658 - val_loss: 0.3620 - val_accuracy: 0.9130\n",
            "WARNING:tensorflow:From <ipython-input-2-b7157e3018ae>:63: Model.evaluate_generator (from tensorflow.python.keras.engine.training) is deprecated and will be removed in a future version.\n",
            "Instructions for updating:\n",
            "Please use Model.evaluate, which supports generators.\n",
            "2/2 [==============================] - 4s 2s/step - loss: 0.3620 - accuracy: 0.9130\n",
            "> 91.304\n"
          ],
          "name": "stdout"
        }
      ]
    },
    {
      "cell_type": "code",
      "metadata": {
        "id": "McgxOWrK5VJ5"
      },
      "source": [
        ""
      ],
      "execution_count": null,
      "outputs": []
    }
  ]
}